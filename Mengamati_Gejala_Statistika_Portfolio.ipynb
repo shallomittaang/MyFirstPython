{
  "nbformat": 4,
  "nbformat_minor": 0,
  "metadata": {
    "colab": {
      "provenance": []
    },
    "kernelspec": {
      "name": "python3",
      "display_name": "Python 3"
    },
    "language_info": {
      "name": "python"
    }
  },
  "cells": [
    {
      "cell_type": "markdown",
      "source": [
        "# **1. Pengaruh Nilai Ekstrim**\n",
        "\n",
        "Pada bagian ini kalian akan mengamati pengaruh nilai ekstrim terhadap 2 ukuran pemusatan data (mean dan median).\n",
        "\n",
        "## 📖 **Soal**\n",
        "\n",
        "7 Karyawan DQTech, diketahui mempunyai data gaji sebagai berikut\n",
        "\n",
        "<br>\n",
        "\n",
        "<table>\n",
        "        <thead>\n",
        "            <tr>\n",
        "                <th>No</th>\n",
        "                <th>Nama</th>\n",
        "                <th>Gaji (Rp)</th>\n",
        "            </tr>\n",
        "        </thead>\n",
        "        <tbody>\n",
        "            <tr>\n",
        "                <td>1</td>\n",
        "                <td>Andi Pratama</td>\n",
        "                <td>5.800.000</td>\n",
        "            </tr>\n",
        "            <tr>\n",
        "                <td>2</td>\n",
        "                <td>Budi Santoso</td>\n",
        "                <td>5.500.000</td>\n",
        "            </tr>\n",
        "            <tr>\n",
        "                <td>3</td>\n",
        "                <td>Citra Dewi</td>\n",
        "                <td>4.700.000</td>\n",
        "            </tr>\n",
        "            <tr>\n",
        "                <td>4</td>\n",
        "                <td>Dani Fadilah</td>\n",
        "                <td>6.500.000</td>\n",
        "            </tr>\n",
        "            <tr>\n",
        "                <td>5</td>\n",
        "                <td>Eka Putra</td>\n",
        "                <td>6.000.000</td>\n",
        "            </tr>\n",
        "            <tr>\n",
        "                <td>6</td>\n",
        "                <td>Fajar Hidayat</td>\n",
        "                <td>4.900.000</td>\n",
        "            </tr>\n",
        "            <tr>\n",
        "                <td>7</td>\n",
        "                <td>Gita Saraswati</td>\n",
        "                <td>5.200.000</td>\n",
        "            </tr>\n",
        "        </tbody>\n",
        "  </table>\n",
        "\n",
        "dengan menggunakan list pada Python hitunglah rata-rata gaji karyawan di DQTech!"
      ],
      "metadata": {
        "id": "_8trObBL0Ab9"
      }
    },
    {
      "cell_type": "code",
      "execution_count": 4,
      "metadata": {
        "id": "xwIG_qdzz9Va",
        "colab": {
          "base_uri": "https://localhost:8080/"
        },
        "outputId": "85bafd33-6d73-44b1-af9d-7a5feb9cfc17"
      },
      "outputs": [
        {
          "output_type": "stream",
          "name": "stdout",
          "text": [
            "Rata-rata gaji karyawan di DQTech adalah Rp 5,514,285.71\n"
          ]
        }
      ],
      "source": [
        "# Data gaji karyawan\n",
        "gaji_karyawan = [5800000, 5500000, 4700000, 6500000, 6000000, 4900000, 5200000]\n",
        "\n",
        "# Menghitung rata-rata gaji\n",
        "rata_rata_gaji = sum(gaji_karyawan) / len(gaji_karyawan)\n",
        "\n",
        "# Menampilkan hasil\n",
        "print(f\"Rata-rata gaji karyawan di DQTech adalah Rp {rata_rata_gaji:,.2f}\")\n"
      ]
    },
    {
      "cell_type": "markdown",
      "source": [
        "Kemudian hitung median datanya juga ya!"
      ],
      "metadata": {
        "id": "FCwu4ZbD2rQ9"
      }
    },
    {
      "cell_type": "markdown",
      "source": [
        "Jika menggunakan import library statistics:"
      ],
      "metadata": {
        "id": "G8zhQ1Zm6R_5"
      }
    },
    {
      "cell_type": "code",
      "source": [
        "import statistics\n",
        "\n",
        "# Data gaji karyawan\n",
        "gaji_karyawan = [5800000, 5500000, 4700000, 6500000, 6000000, 4900000, 5200000]\n",
        "\n",
        "# Menghitung median\n",
        "median_gaji = statistics.median(gaji_karyawan)\n",
        "\n",
        "# Menampilkan hasil\n",
        "print(f\"Median gaji karyawan di DQTech adalah Rp {median_gaji:,.2f}\")\n"
      ],
      "metadata": {
        "id": "B4FiNj3L2t7Q",
        "colab": {
          "base_uri": "https://localhost:8080/"
        },
        "outputId": "1077ee1c-0411-4479-97ec-6c4978a0bec5"
      },
      "execution_count": 5,
      "outputs": [
        {
          "output_type": "stream",
          "name": "stdout",
          "text": [
            "Median gaji karyawan di DQTech adalah Rp 5,500,000.00\n"
          ]
        }
      ]
    },
    {
      "cell_type": "markdown",
      "source": [
        "Jika menghitung tanpa import library, maka:"
      ],
      "metadata": {
        "id": "delNUaS-6XLH"
      }
    },
    {
      "cell_type": "code",
      "source": [
        "# Data gaji karyawan\n",
        "gaji_karyawan = [5800000, 5500000, 4700000, 6500000, 6000000, 4900000, 5200000]\n",
        "\n",
        "# Mengurutkan data\n",
        "gaji_karyawan.sort()\n",
        "\n",
        "# Menentukan median\n",
        "jumlah_data = len(gaji_karyawan)\n",
        "tengah = jumlah_data // 2  # Mencari indeks tengah\n",
        "\n",
        "if jumlah_data % 2 == 1:\n",
        "    # Jika jumlah data ganjil, median adalah nilai tengah\n",
        "    median_gaji = gaji_karyawan[tengah]\n",
        "else:\n",
        "    # Jika jumlah data genap, median adalah rata-rata dua nilai tengah\n",
        "    median_gaji = (gaji_karyawan[tengah - 1] + gaji_karyawan[tengah]) / 2\n",
        "\n",
        "# Menampilkan hasil\n",
        "print(f\"Median gaji karyawan di DQTech adalah Rp {median_gaji:,.2f}\")\n"
      ],
      "metadata": {
        "colab": {
          "base_uri": "https://localhost:8080/"
        },
        "id": "ChuHRxZs6Z3D",
        "outputId": "ce6c1a47-896c-44eb-a43e-e9d66e0ad39f"
      },
      "execution_count": 7,
      "outputs": [
        {
          "output_type": "stream",
          "name": "stdout",
          "text": [
            "Median gaji karyawan di DQTech adalah Rp 5,500,000.00\n"
          ]
        }
      ]
    },
    {
      "cell_type": "markdown",
      "source": [
        "bisa juga menggunakan versi yang lebih simple:"
      ],
      "metadata": {
        "id": "_apa9IHF6wtw"
      }
    },
    {
      "cell_type": "code",
      "source": [
        "# Data gaji karyawan\n",
        "gaji = [5800000, 5500000, 4700000, 6500000, 6000000, 4900000, 5200000]\n",
        "\n",
        "# Menghitung median\n",
        "gaji.sort()\n",
        "tengah = len(gaji) // 2\n",
        "median = gaji[tengah] if len(gaji) % 2 == 1 else (gaji[tengah - 1] + gaji[tengah]) / 2\n",
        "\n",
        "# Output hasil\n",
        "print(f\"Median gaji karyawan di DQTech adalah Rp {median:,.2f}\")\n"
      ],
      "metadata": {
        "colab": {
          "base_uri": "https://localhost:8080/"
        },
        "id": "gcvM-yhI60IV",
        "outputId": "c9286a68-4326-4031-c76f-6c3176bf8e81"
      },
      "execution_count": 9,
      "outputs": [
        {
          "output_type": "stream",
          "name": "stdout",
          "text": [
            "Median gaji karyawan di DQTech adalah Rp 5,500,000.00\n"
          ]
        }
      ]
    },
    {
      "cell_type": "markdown",
      "source": [
        "Wah, saat ini terdapat karyawan baru bernama Cakra Negara yang memiliki gaji fantastis yakni Rp. 17.000.000, sehingga data gaji karyawan DQTech saat ini menjadi\n",
        "\n",
        "<br>\n",
        "\n",
        "<table>\n",
        "        <thead>\n",
        "            <tr>\n",
        "                <th>No</th>\n",
        "                <th>Nama</th>\n",
        "                <th>Gaji (Rp)</th>\n",
        "            </tr>\n",
        "        </thead>\n",
        "        <tbody>\n",
        "            <tr>\n",
        "                <td>1</td>\n",
        "                <td>Andi Pratama</td>\n",
        "                <td>5.800.000</td>\n",
        "            </tr>\n",
        "            <tr>\n",
        "                <td>2</td>\n",
        "                <td>Budi Santoso</td>\n",
        "                <td>5.500.000</td>\n",
        "            </tr>\n",
        "            <tr>\n",
        "                <td>3</td>\n",
        "                <td>Citra Dewi</td>\n",
        "                <td>4.700.000</td>\n",
        "            </tr>\n",
        "            <tr>\n",
        "                <td>4</td>\n",
        "                <td>Dani Fadilah</td>\n",
        "                <td>6.500.000</td>\n",
        "            </tr>\n",
        "            <tr>\n",
        "                <td>5</td>\n",
        "                <td>Eka Putra</td>\n",
        "                <td>6.000.000</td>\n",
        "            </tr>\n",
        "            <tr>\n",
        "                <td>6</td>\n",
        "                <td>Fajar Hidayat</td>\n",
        "                <td>4.900.000</td>\n",
        "            </tr>\n",
        "            <tr>\n",
        "                <td>7</td>\n",
        "                <td>Gita Saraswati</td>\n",
        "                <td>5.200.000</td>\n",
        "            </tr>\n",
        "            <tr>\n",
        "                <td>8</td>\n",
        "                <td>Cakra Negara</td>\n",
        "                <td>17.000.000</td>\n",
        "            </tr>\n",
        "        </tbody>\n",
        "  </table>\n",
        "\n",
        "Hitung kembali rata-rata gaji karyawan di DQTech saat ini!"
      ],
      "metadata": {
        "id": "BHF31hzC1orR"
      }
    },
    {
      "cell_type": "code",
      "source": [
        "# Data gaji karyawan terbaru\n",
        "gaji = [5800000, 5500000, 4700000, 6500000, 6000000, 4900000, 5200000, 17000000]\n",
        "\n",
        "# Menghitung rata-rata gaji\n",
        "rata_rata_gaji = sum(gaji) / len(gaji)\n",
        "\n",
        "# Output hasil\n",
        "print(f\"Rata-rata gaji karyawan di DQTech saat ini adalah Rp {rata_rata_gaji:,.2f}\")\n"
      ],
      "metadata": {
        "id": "FlIdGsRB2MZc",
        "colab": {
          "base_uri": "https://localhost:8080/"
        },
        "outputId": "3836a3ad-c39d-4d20-dae7-beaedc5065f7"
      },
      "execution_count": 14,
      "outputs": [
        {
          "output_type": "stream",
          "name": "stdout",
          "text": [
            "Rata-rata gaji karyawan di DQTech saat ini adalah Rp 6,950,000.00\n"
          ]
        }
      ]
    },
    {
      "cell_type": "markdown",
      "source": [
        "Kemudian hitung median data barunya juga ya!"
      ],
      "metadata": {
        "id": "3ffdnEw93ZMA"
      }
    },
    {
      "cell_type": "code",
      "source": [
        "# Data gaji karyawan terbaru\n",
        "gaji = [5800000, 5500000, 4700000, 6500000, 6000000, 4900000, 5200000, 17000000]\n",
        "\n",
        "# Mengurutkan data\n",
        "gaji.sort()\n",
        "\n",
        "# Menghitung median\n",
        "tengah = len(gaji) // 2\n",
        "median = (gaji[tengah - 1] + gaji[tengah]) / 2 if len(gaji) % 2 == 0 else gaji[tengah]\n",
        "\n",
        "# Output hasil\n",
        "print(f\"Median gaji karyawan di DQTech saat ini adalah Rp {median:,.2f}\")\n"
      ],
      "metadata": {
        "id": "t0kra0sL3L5P",
        "colab": {
          "base_uri": "https://localhost:8080/"
        },
        "outputId": "58f2aa05-aeb8-4e0f-f480-63702b77da71"
      },
      "execution_count": 16,
      "outputs": [
        {
          "output_type": "stream",
          "name": "stdout",
          "text": [
            "Median gaji karyawan di DQTech saat ini adalah Rp 5,650,000.00\n"
          ]
        }
      ]
    },
    {
      "cell_type": "markdown",
      "source": [
        "Apa yang terjadi dengan nilai rataan dan median data karyawan gaji sekarang? Menurutmu mengapa hal tersebut terjadi? Coba Interpretasikan hasil pengamatanmu!"
      ],
      "metadata": {
        "id": "KAKQVzwF2M6A"
      }
    },
    {
      "cell_type": "markdown",
      "source": [
        "Jawaban:\n",
        "\n",
        "*   Rata-rata meningkat signifikan karena adanya outlier (gaji Cakra Negara yang sangat tinggi).\n",
        "*   Median tetap lebih stabil dan lebih merepresentasikan gaji mayoritas karyawan.\n",
        "*   Median lebih baik digunakan dibanding rata-rata untuk memahami distribusi gaji secara realistis, terutama saat ada nilai ekstrem.\n",
        "\n",
        "**Kesimpulan utama**:\n",
        "\n",
        "Jika kita hanya melihat rata-rata, kita bisa salah mengira bahwa gaji di perusahaan ini tinggi untuk semua orang. Padahal mayoritas karyawan tetap menerima gaji sekitar Rp 5.500.000 – Rp 6.500.000. Median lebih mencerminkan kondisi sebenarnya!"
      ],
      "metadata": {
        "id": "L926MddN_dL8"
      }
    },
    {
      "cell_type": "markdown",
      "source": [
        "# **2. Komparasi Simpangan Baku**\n",
        "\n",
        "Pada bagian ini kalian akan mengamati nilai penyebaran data.\n",
        "\n",
        "Simpangan baku (standard deviation) adalah ukuran statistik yang digunakan untuk mengukur sebaran atau dispersi data dalam sebuah sampel atau populasi. Simpangan baku menggambarkan sejauh mana nilai-nilai data tersebar di sekitar rata-rata (mean) dalam suatu distribusi.\n",
        "\n",
        "\\begin{equation}\n",
        "\\sigma = \\sqrt{\\frac{\\sum{(x - \\mu)^2}}{N}}\n",
        "\\end{equation}\n",
        "\n",
        "* σ adalah simpangan baku.\n",
        "* 𝒙 adalah nilai data dalam sampel atau populasi.\n",
        "* μ adalah rata-rata (mean) dari data.\n",
        "* ∑ adalah simbol sigma yang menunjukkan penjumlahan.\n",
        "* 𝑵 adalah jumlah total nilai dalam sampel atau populasi.\n",
        "<br><br>"
      ],
      "metadata": {
        "id": "UwGcIATI2nQe"
      }
    },
    {
      "cell_type": "markdown",
      "source": [
        "## 📖 **Soal**\n",
        "\n",
        "Karena ketidakpastian situasi global, memaksa DQTech untuk melakukan efisiensi. Dari beberapa produk yang DQTech jual, DQTech harus mengeliminasi 1 produk. Data penjualan pada periode waktu tertentu disajikan pada list berikut :\n",
        "\n",
        "Penjualan produk A (secara kuantitas tiap bulannya)\n",
        "```\n",
        "penjualan_produk_A = [55, 49, 48, 50, 52, 47, 51, 50, 53, 48, 50, 49, 51, 46, 50]\n",
        "```\n",
        "\n",
        "Penjualan produk B (secara kuantitas tiap bulannya)\n",
        "```\n",
        "penjualan_produk_B = [80, 20, 45, 65, 30, 90, 10, 110, 60, 55, 75, 35, 48, 50, 25]\n",
        "```\n",
        "\n",
        "Coba hitung simpangan baku dari `penjualan_produk_A` dan `penjualan_produk_B` dan bantu DQTech menentukan mana produk yang sebaiknya dipertahankan? Mengapa?"
      ],
      "metadata": {
        "id": "7rQTXQlD5DMv"
      }
    },
    {
      "cell_type": "markdown",
      "source": [
        "**JAWABAN:**\n",
        "*   Produk A lebih stabil (σ = 2.46) → Fluktuasi rendah, lebih mudah diprediksi dan dikelola.\n",
        "*   Produk B sangat tidak stabil (σ = 28.72) → Penjualannya naik-turun drastis, sulit diprediksi.\n",
        "\n",
        "DQTech sebaiknya mempertahankan Produk A karena lebih stabil dan konsisten dalam penjualan. Produk B mungkin menjanjikan keuntungan besar di beberapa bulan, tetapi risiko kerugian juga lebih tinggi karena variasinya sangat besar.\n",
        "\n"
      ],
      "metadata": {
        "id": "LO9PPLoQBVxx"
      }
    },
    {
      "cell_type": "code",
      "source": [
        "penjualan_produk_A = [55, 49, 48, 50, 52, 47, 51, 50, 53, 48, 50, 49, 51, 46, 50]\n",
        "penjualan_produk_B = [80, 20, 45, 65, 30, 90, 10, 110, 60, 55, 75, 35, 48, 50, 25]\n",
        "\n",
        "# menghitung rata2 penjualan\n",
        "avg_produk_A = sum(penjualan_produk_A) / len(penjualan_produk_A)\n",
        "avg_produk_B = sum(penjualan_produk_B) / len(penjualan_produk_B)\n",
        "\n",
        "# Menampilkan rata-rata penjualan\n",
        "print(f\"Rata-rata penjualan produk A: {avg_produk_A:.2f}\")\n",
        "print(f\"Rata-rata penjualan produk B: {avg_produk_B:.2f}\\n\")\n",
        "\n",
        "# Fungsi simpangan baku\n",
        "def hitung_simpangan_baku(data):\n",
        "    n = len(data)\n",
        "    rata_rata = sum(data) / n\n",
        "    variansi = sum((x - rata_rata) ** 2 for x in data) / n\n",
        "    simpangan_baku = variansi ** 0.5\n",
        "    return simpangan_baku\n",
        "\n",
        "# Menghitung simpangan baku\n",
        "std_dev_A = hitung_simpangan_baku(penjualan_produk_A)\n",
        "std_dev_B = hitung_simpangan_baku(penjualan_produk_B)\n",
        "\n",
        "# nampilin hasil\n",
        "print(f\"Simpangan baku produk A: {std_dev_A:.2f}\")\n",
        "print(f\"Simpangan baku produk B: {std_dev_B:.2f}\")"
      ],
      "metadata": {
        "colab": {
          "base_uri": "https://localhost:8080/"
        },
        "id": "meN6VMCXaNF_",
        "outputId": "607f6f30-86cd-4a39-a0bd-06c59c27959a"
      },
      "execution_count": 17,
      "outputs": [
        {
          "output_type": "stream",
          "name": "stdout",
          "text": [
            "Rata-rata penjualan produk A: 49.93\n",
            "Rata-rata penjualan produk B: 53.20\n",
            "\n",
            "Simpangan baku produk A: 2.24\n",
            "Simpangan baku produk B: 26.71\n"
          ]
        }
      ]
    },
    {
      "cell_type": "code",
      "source": [
        "import matplotlib.pyplot as plt\n",
        "\n",
        "# Bulan buat visualisasi\n",
        "bulan = list(range(1, len(penjualan_produk_A) + 1))\n",
        "\n",
        "# Visualisasi\n",
        "plt.figure(figsize=(12, 6))\n",
        "plt.plot(bulan, penjualan_produk_A, label=\"Produk A\", marker='o', linestyle='-')\n",
        "plt.plot(bulan, penjualan_produk_B, label=\"Produk B\", marker='s', linestyle='--')\n",
        "\n",
        "# nambahin rata2 ke grafik\n",
        "plt.axhline(y=avg_produk_A, color='blue', linestyle=':', label=f\"Rata-rata A: {avg_produk_A:.2f}\")\n",
        "plt.axhline(y=avg_produk_B, color='orange', linestyle=':', label=f\"Rata-rata B: {avg_produk_B:.2f}\")\n",
        "\n",
        "# bikin judul sama labelnya\n",
        "plt.title(\"Penjualan Produk A dan B Per Bulan\", fontsize=14)\n",
        "plt.xlabel(\"Bulan\", fontsize=12)\n",
        "plt.ylabel(\"Jumlah Penjualan\", fontsize=12)\n",
        "plt.xticks(bulan)\n",
        "plt.legend()\n",
        "plt.grid(alpha=0.3)\n",
        "plt.tight_layout()\n",
        "\n",
        "# tampilan visualisasinya\n",
        "plt.show()\n"
      ],
      "metadata": {
        "colab": {
          "base_uri": "https://localhost:8080/",
          "height": 337
        },
        "id": "nKyIdPebc862",
        "outputId": "26bed773-cd49-4897-8e72-43ed98973b68"
      },
      "execution_count": 19,
      "outputs": [
        {
          "output_type": "display_data",
          "data": {
            "text/plain": [
              "<Figure size 1200x600 with 1 Axes>"
            ],
            "image/png": "[encoded data removed]"
          },
          "metadata": {}
        }
      ]
    }
  ]
}